{
 "cells": [
  {
   "cell_type": "code",
   "execution_count": 1,
   "id": "8f32e8f8",
   "metadata": {},
   "outputs": [],
   "source": [
    "import matplotlib.pyplot as plt\n",
    "import numpy as np\n",
    "from sklearn import datasets\n",
    "from sklearn.model_selection import train_test_split\n",
    "from skimage.transform import resize\n",
    "from sklearn import svm\n",
    "import os\n",
    "# load file\n",
    "path = os.getcwd()+\"/PCA_dataset/\"\n",
    "bac_train_fn = \"PCA7_500_bacteria_train.txt\"\n",
    "bac_train = np.loadtxt(path+bac_train_fn)\n",
    "bac_test_fn = \"PCA7_234_bacteria_test.txt\"\n",
    "bac_test = np.loadtxt(path+bac_test_fn)\n",
    "\n",
    "vir_train_fn = \"PCA7_500_virus_train.txt\"\n",
    "vir_train = np.loadtxt(path+vir_train_fn)\n",
    "vir_test_fn = \"PCA7_148_virus_test.txt\"\n",
    "vir_test = np.loadtxt(path+vir_test_fn)\n",
    "\n",
    "norm_trian_fn = \"PCA7_500_NORMAL_train.txt\"\n",
    "norm_trian = np.loadtxt(path+norm_trian_fn)\n",
    "norm_test_fn = \"PCA7_234_NORMAL_test.txt\"\n",
    "norm_test = np.loadtxt(path+norm_test_fn)\n",
    "n_pts = 50\n",
    "raw_data_total = np.r_[bac_train[:n_pts,:],bac_test[:n_pts,:],vir_train[:n_pts,:],vir_test[:n_pts,:],norm_trian[:n_pts,:],norm_test[:n_pts,:]]"
   ]
  },
  {
   "cell_type": "code",
   "execution_count": 2,
   "id": "dee2fb22",
   "metadata": {},
   "outputs": [
    {
     "name": "stdout",
     "output_type": "stream",
     "text": [
      "raw_data_total (300, 8)\n",
      "(60, 7)\n",
      "(240, 7)\n"
     ]
    }
   ],
   "source": [
    "from sklearn import preprocessing\n",
    "### extracting data, making sure that we have equal number of points from each class\n",
    "print (\"raw_data_total\",np.shape(raw_data_total))\n",
    "data_total=[]\n",
    "class_total=[]\n",
    "for i in range(len(raw_data_total)):\n",
    "    if int(raw_data_total[i][-1])==0:\n",
    "        class_total.append('A')\n",
    "    elif int(raw_data_total[i][-1])==1:\n",
    "        class_total.append('B')\n",
    "    elif int(raw_data_total[i][-1])==2:\n",
    "        class_total.append('C')\n",
    "    data_total.append(raw_data_total[i][0:7])\n",
    "    \n",
    "    \n",
    "scaler = preprocessing.MinMaxScaler().fit(data_total)\n",
    "#data_normalize = scaler.transform(data[:,:-1])\n",
    "data_total_norm = scaler.transform(data_total)\n",
    "x_train, x_test, y_train, y_test= train_test_split(data_total_norm, class_total, test_size=0.2, random_state=1430, stratify=class_total)\n",
    "\n",
    "Dict_train = {}\n",
    "Dict_train.setdefault(\"A\",[])\n",
    "Dict_train.setdefault(\"B\",[])\n",
    "Dict_train.setdefault(\"C\",[])\n",
    "\n",
    "Dict_test = {}\n",
    "Dict_test.setdefault(\"A\",[])\n",
    "Dict_test.setdefault(\"B\",[])\n",
    "Dict_test.setdefault(\"C\",[])\n",
    "\n",
    "for i in range(len(y_train)):\n",
    "    Dict_train[y_train[i]].append(x_train[i])\n",
    "for i in range(len(y_test)):\n",
    "    Dict_test[y_test[i]].append(x_test[i])\n",
    "\n",
    "temp = [Dict_test[k] for k in Dict_test]\n",
    "total_array = np.concatenate(temp) \n",
    "\n",
    "x_test = [Dict_test[k] for k in Dict_test]\n",
    "x_test = np.r_[x_test[0],x_test[1],x_test[2]]\n",
    "print (np.shape(x_test))\n",
    "#print (x_test)\n",
    "y_test = []\n",
    "for i in range(20):\n",
    "    y_test.append(0)\n",
    "for i in range(20):\n",
    "    y_test.append(1)\n",
    "for i in range(20):\n",
    "    y_test.append(2)\n",
    "\n",
    "x_train = [Dict_train[k] for k in Dict_train]\n",
    "x_train = np.r_[x_train[0],x_train[1],x_train[2]]\n",
    "print (np.shape(x_train))\n",
    "y_train = []\n",
    "for i in range(80):\n",
    "    y_train.append(0)\n",
    "for i in range(80):\n",
    "    y_train.append(1)\n",
    "for i in range(80):\n",
    "    y_train.append(2)\n",
    "\n",
    "#print (x_test)"
   ]
  },
  {
   "cell_type": "code",
   "execution_count": 3,
   "id": "8f2da649",
   "metadata": {},
   "outputs": [
    {
     "name": "stdout",
     "output_type": "stream",
     "text": [
      "(240, 7)\n",
      "The best parameters are {'C': 10000.0, 'gamma': 1.0} with a score of 0.75\n"
     ]
    }
   ],
   "source": [
    "from sklearn.metrics import accuracy_score\n",
    "from sklearn.metrics import confusion_matrix\n",
    "from sklearn.metrics import ConfusionMatrixDisplay\n",
    "\n",
    "from sklearn.svm import SVC\n",
    "from sklearn.preprocessing import StandardScaler\n",
    "from sklearn.model_selection import StratifiedShuffleSplit\n",
    "from sklearn.model_selection import GridSearchCV\n",
    "\n",
    "# Train classifiers\n",
    "#\n",
    "# For an initial search, a logarithmic grid with basis\n",
    "# 10 is often helpful. Using a basis of 2, a finer\n",
    "# tuning can be achieved but at a much higher cost.\n",
    "\n",
    "# rbf\n",
    "C_range = np.logspace(-2, 10, 10)\n",
    "gamma_range = np.logspace(-9, 3, 10)\n",
    "param_grid = dict(gamma=gamma_range, C=C_range)\n",
    "cv = StratifiedShuffleSplit(n_splits=5, test_size=0.2, random_state=42)\n",
    "grid = GridSearchCV(SVC(), param_grid=param_grid, cv=cv)\n",
    "grid.fit(x_train, y_train)\n",
    "print (np.shape(x_train))\n",
    "print(\n",
    "    \"The best parameters are %s with a score of %0.2f\"\n",
    "    % (grid.best_params_, grid.best_score_)\n",
    ")"
   ]
  },
  {
   "cell_type": "code",
   "execution_count": 4,
   "id": "e4ebef01",
   "metadata": {},
   "outputs": [
    {
     "name": "stdout",
     "output_type": "stream",
     "text": [
      "Best C: 200.0\n",
      "Best gamma: 1.0\n",
      "Score on the test set 0.7666666666666667\n",
      "(60,)\n",
      "(60,)\n"
     ]
    },
    {
     "data": {
      "image/png": "[encoded data removed]",
      "text/plain": [
       "<Figure size 432x288 with 2 Axes>"
      ]
     },
     "metadata": {
      "needs_background": "light"
     },
     "output_type": "display_data"
    }
   ],
   "source": [
    "# Find the best hyperparameters for SVM\n",
    "best_C = grid.best_params_[\"C\"]\n",
    "print (\"Best C:\",best_C)\n",
    "best_gamma = grid.best_params_[\"gamma\"]\n",
    "print (\"Best gamma:\",best_gamma)\n",
    "clf = svm.SVC(kernel =\"rbf\", C= best_C, gamma = best_gamma)\n",
    "clf.fit(x_train, y_train)\n",
    "y_pred = clf.predict(x_test)\n",
    "score_test = accuracy_score(y_test, y_pred)\n",
    "print(f'Score on the test set {score_test}')\n",
    "\n",
    "print (np.shape(y_test))\n",
    "print (np.shape(y_pred))\n",
    "# plot confusion matrix\n",
    "cm = confusion_matrix(y_test, y_pred)\n",
    "cm_display = ConfusionMatrixDisplay(cm).plot()\n",
    "plt.title(\"Confusion matrix result for classical SVM\")\n",
    "plt.savefig(\"confusion_mat_classical_svm_v3.pdf\")\n"
   ]
  },
  {
   "cell_type": "code",
   "execution_count": null,
   "id": "06cd22f2",
   "metadata": {},
   "outputs": [],
   "source": []
  }
 ],
 "metadata": {
  "kernelspec": {
   "display_name": "Python 3 (ipykernel)",
   "language": "python",
   "name": "python3"
  },
  "language_info": {
   "codemirror_mode": {
    "name": "ipython",
    "version": 3
   },
   "file_extension": ".py",
   "mimetype": "text/x-python",
   "name": "python",
   "nbconvert_exporter": "python",
   "pygments_lexer": "ipython3",
   "version": "3.9.10"
  }
 },
 "nbformat": 4,
 "nbformat_minor": 5
}
